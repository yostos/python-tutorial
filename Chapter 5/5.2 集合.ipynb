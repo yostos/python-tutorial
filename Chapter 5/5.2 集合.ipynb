{
 "cells": [
  {
   "cell_type": "markdown",
   "metadata": {},
   "source": [
    "## 5.4 集合"
   ]
  },
  {
   "cell_type": "code",
   "execution_count": 9,
   "metadata": {},
   "outputs": [
    {
     "name": "stdout",
     "output_type": "stream",
     "text": [
      "{'pear', 'apple', 'banana', 'orange', 'peach'}\n",
      "True\n",
      "False\n",
      "{'a', 'd', 'e', 'c', 'g', 'f', 'b'}\n",
      "{'a', 'k', 'h', 'e', 'c', 'g', 'j', 'l', 'i'}\n",
      "--------------------------------------------------------------------------------\n",
      "{'b', 'd', 'f'}\n",
      "{'a', 'd', 'c', 'j', 'l', 'b', 'k', 'h', 'e', 'g', 'f', 'i'}\n",
      "{'c', 'a', 'g', 'e'}\n",
      "{'k', 'h', 'd', 'j', 'f', 'l', 'i', 'b'}\n"
     ]
    }
   ],
   "source": [
    "basket = {'apple', 'orange', 'apple', 'peach', 'banana', 'pear', 'orange', 'banana'}\n",
    "print(basket)\n",
    "print('apple' in basket)\n",
    "print('cherry' in basket)\n",
    "\n",
    "a = set('abcdefg')\n",
    "print(a)\n",
    "b = set('aceghijkl')\n",
    "print(b)\n",
    "print('-'*80)\n",
    "print(a-b)\n",
    "print(a|b)\n",
    "print(a&b)\n",
    "print(a^b)\n"
   ]
  },
  {
   "cell_type": "code",
   "execution_count": null,
   "metadata": {},
   "outputs": [],
   "source": []
  }
 ],
 "metadata": {
  "kernelspec": {
   "display_name": "Python 3",
   "language": "python",
   "name": "python3"
  },
  "language_info": {
   "codemirror_mode": {
    "name": "ipython",
    "version": 3
   },
   "file_extension": ".py",
   "mimetype": "text/x-python",
   "name": "python",
   "nbconvert_exporter": "python",
   "pygments_lexer": "ipython3",
   "version": "3.6.2"
  }
 },
 "nbformat": 4,
 "nbformat_minor": 2
}
