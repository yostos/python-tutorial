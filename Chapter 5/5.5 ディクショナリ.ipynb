{
 "cells": [
  {
   "cell_type": "markdown",
   "metadata": {},
   "source": [
    "## 5.5 ディクショナリ"
   ]
  },
  {
   "cell_type": "code",
   "execution_count": 9,
   "metadata": {},
   "outputs": [
    {
     "name": "stdout",
     "output_type": "stream",
     "text": [
      "{'jack': 4089, 'sape': 4139, 'guido': 4123}\n",
      "4089\n",
      "{'jack': 4089, 'guido': 4123}\n",
      "{'jack': 4089, 'guido': 4123, 'irv': 1111}\n",
      "['jack', 'guido', 'irv']\n",
      "['guido', 'irv', 'jack']\n",
      "True\n",
      "False\n",
      "{'sape': 1439, 'guido': 4120, 'jack': 4039}\n",
      "{2: 4, 4: 16, 6: 36}\n"
     ]
    }
   ],
   "source": [
    "tel = {'jack':4089, 'sape':4139}\n",
    "tel['guido'] = 4123\n",
    "print(tel)\n",
    "print(tel['jack'])\n",
    "\n",
    "del(tel['sape'])\n",
    "print(tel)\n",
    "\n",
    "tel['irv'] = 1111\n",
    "print(tel)\n",
    "\n",
    "print(list(tel.keys()))\n",
    "print(sorted(tel.keys()))\n",
    "print('guidox' not in tel)\n",
    "print('jack' not in tel)\n",
    "\n",
    "# dict()\n",
    "dic = dict([('sape',1439),('guido',4120),('jack',4039)])\n",
    "print(dic)\n",
    "dic2 = {x: x**2 for x in (2,4,6)}\n",
    "print(dic2)"
   ]
  },
  {
   "cell_type": "code",
   "execution_count": null,
   "metadata": {},
   "outputs": [],
   "source": []
  }
 ],
 "metadata": {
  "kernelspec": {
   "display_name": "Python 3",
   "language": "python",
   "name": "python3"
  },
  "language_info": {
   "codemirror_mode": {
    "name": "ipython",
    "version": 3
   },
   "file_extension": ".py",
   "mimetype": "text/x-python",
   "name": "python",
   "nbconvert_exporter": "python",
   "pygments_lexer": "ipython3",
   "version": "3.6.2"
  }
 },
 "nbformat": 4,
 "nbformat_minor": 2
}
