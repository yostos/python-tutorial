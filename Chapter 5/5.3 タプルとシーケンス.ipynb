{
 "cells": [
  {
   "cell_type": "markdown",
   "metadata": {},
   "source": [
    "## 5.3 タプルとシーケンス\n",
    "\n",
    "リストはシーケンスデータ型であるが、もう一つのシーケンスデータ型がタプル。"
   ]
  },
  {
   "cell_type": "code",
   "execution_count": 7,
   "metadata": {},
   "outputs": [
    {
     "name": "stdout",
     "output_type": "stream",
     "text": [
      "12345\n",
      "(12345, 54321, 'hello!')\n",
      "((12345, 54321, 'hello!'), 2345, 5555)\n",
      "([1, 2, 3], [3, 2, 1])\n",
      "12345 54321 hello!\n"
     ]
    }
   ],
   "source": [
    "t = 12345,54321, 'hello!'\n",
    "print(t[0])\n",
    "print(t)\n",
    "\n",
    "# 入れ子にも出来る\n",
    "u = t, 2345,5555\n",
    "print(u)\n",
    "\n",
    "# タプルは変更できない\n",
    "# t[0] = 0\n",
    "\n",
    "# しかし変更可能オブジェクトを格納できる\n",
    "v = ([1,2,3],[3,2,1])\n",
    "print(v)\n",
    "\n",
    "# アイテム数が0のタプルの作り方\n",
    "empty = ()\n",
    "\n",
    "# アイテム数が1のタプルの作り方\n",
    "singleton = 1,\n",
    "\n",
    "# アンパッキング\n",
    "a,b,c = t\n",
    "\n",
    "print(a,b,c)"
   ]
  },
  {
   "cell_type": "code",
   "execution_count": null,
   "metadata": {},
   "outputs": [],
   "source": []
  }
 ],
 "metadata": {
  "kernelspec": {
   "display_name": "Python 3",
   "language": "python",
   "name": "python3"
  },
  "language_info": {
   "codemirror_mode": {
    "name": "ipython",
    "version": 3
   },
   "file_extension": ".py",
   "mimetype": "text/x-python",
   "name": "python",
   "nbconvert_exporter": "python",
   "pygments_lexer": "ipython3",
   "version": "3.6.2"
  }
 },
 "nbformat": 4,
 "nbformat_minor": 2
}
