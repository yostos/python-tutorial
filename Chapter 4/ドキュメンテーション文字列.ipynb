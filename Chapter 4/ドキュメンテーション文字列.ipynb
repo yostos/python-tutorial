{
 "cells": [
  {
   "cell_type": "markdown",
   "metadata": {},
   "source": [
    "### 4.7.6 ドキュメンテーション文字列 / 4.7.7 アノテーション\n",
    "\n",
    "- 関数宣言の直後の一行目に書く\n",
    "- 大文字で始まり、ピリオドで終わる。 (日本語はどないすんじゃ？)\n",
    "- 2行目以降がある場合は空行を置き、文章を続ける。\n",
    "- Python自体は複数行のリテラルのインデントを除去しない\n",
    "\n"
   ]
  },
  {
   "cell_type": "code",
   "execution_count": null,
   "metadata": {
    "collapsed": true
   },
   "outputs": [],
   "source": [
    "# 例\n",
    "def my_function(ham:str, eggs:str = 'eggs')->str:\n",
    "    \"\"\"Do nothing, but document it.\n",
    "    \n",
    "    No, Really, it doesn't do anything.\n",
    "    \"\"\"\n",
    "    pass\n",
    "\n",
    "\n",
    "print(my_function.__doc__)\n",
    "print(my_function.__annotations__)\n"
   ]
  },
  {
   "cell_type": "markdown",
   "metadata": {},
   "source": [
    "Pythonならドキュメンテーション文字列が出力されるところだが、Jupyter notebookだと出力されない。"
   ]
  }
 ],
 "metadata": {
  "kernelspec": {
   "display_name": "Python 3",
   "language": "python",
   "name": "python3"
  },
  "language_info": {
   "codemirror_mode": {
    "name": "ipython",
    "version": 3
   },
   "file_extension": ".py",
   "mimetype": "text/x-python",
   "name": "python",
   "nbconvert_exporter": "python",
   "pygments_lexer": "ipython3",
   "version": "3.6.1"
  }
 },
 "nbformat": 4,
 "nbformat_minor": 2
}
