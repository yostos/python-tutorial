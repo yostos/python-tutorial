{
 "cells": [
  {
   "cell_type": "markdown",
   "metadata": {},
   "source": [
    "## 4.2 for statement\n",
    "\n",
    "以下の例では、wordsを**シーケンス**という。"
   ]
  },
  {
   "cell_type": "code",
   "execution_count": 1,
   "metadata": {},
   "outputs": [
    {
     "name": "stdout",
     "output_type": "stream",
     "text": [
      "cat 3\n",
      "window 6\n",
      "defenestrate 12\n"
     ]
    }
   ],
   "source": [
    "words = [ 'cat', 'window', 'defenestrate']\n",
    "for w in words:\n",
    "    print(w, len(w))\n",
    "    "
   ]
  },
  {
   "cell_type": "markdown",
   "metadata": {},
   "source": [
    "シーケンスを変更するときは、コピーをとって反復する。**スライス表記**を使う。"
   ]
  },
  {
   "cell_type": "code",
   "execution_count": 6,
   "metadata": {},
   "outputs": [
    {
     "name": "stdout",
     "output_type": "stream",
     "text": [
      "['defenestrate', 'cat', 'window', 'defenestrate']\n"
     ]
    }
   ],
   "source": [
    "words = [ 'cat', 'window', 'defenestrate']\n",
    "for w in words[:]: # これがスライスか\n",
    "    if len(w) > 6:\n",
    "        words.insert(0,w)\n",
    "print(words)"
   ]
  },
  {
   "cell_type": "markdown",
   "metadata": {},
   "source": [
    "## 4.3 range() \n",
    "\n",
    "range() が返すものを、**反復可能体(iterable)**と呼ぶ。\n",
    "反復可能体を期待する関数や構造は、**反復子(iterator)**と呼ぶ。例えば、反復可能体からリストを生成する list()関数も反復子である。"
   ]
  },
  {
   "cell_type": "code",
   "execution_count": 17,
   "metadata": {},
   "outputs": [
    {
     "name": "stdout",
     "output_type": "stream",
     "text": [
      "0 I\n",
      "1 light\n",
      "2 a\n",
      "3 candle\n",
      "4 to\n",
      "5 our\n",
      "6 love\n",
      "------------------\n",
      "1 light\n",
      "3 candle\n",
      "5 our\n",
      "------------------\n",
      "[5, 6, 7, 8]\n"
     ]
    }
   ],
   "source": [
    "words = ['I', 'light', 'a', 'candle', 'to', 'our', 'love']\n",
    "for i in range(len(words)):\n",
    "    print(i,words[i])\n",
    "print('------------------')\n",
    "for i in range(1,7,2):\n",
    "    print(i,words[i])\n",
    "print('------------------')\n",
    "print (list(range(5,9)))"
   ]
  },
  {
   "cell_type": "markdown",
   "metadata": {},
   "source": [
    "## 4.4 break/continue/else\n",
    "\n",
    "break/continueはほぼC言語同様。\n",
    "elseが例外処理的？"
   ]
  },
  {
   "cell_type": "code",
   "execution_count": 19,
   "metadata": {},
   "outputs": [
    {
     "name": "stdout",
     "output_type": "stream",
     "text": [
      "2  is a prime number\n",
      "3  is a prime number\n",
      "4 equals 2 * 2.0\n",
      "5  is a prime number\n",
      "6 equals 2 * 3.0\n",
      "7  is a prime number\n",
      "8 equals 2 * 4.0\n",
      "9 equals 3 * 3.0\n"
     ]
    }
   ],
   "source": [
    "# 素数探索ループ例\n",
    "for n in range(2,10):\n",
    "    for x in range(2,n):\n",
    "        if n % x == 0:\n",
    "            print(n, 'equals', x, '*', n/x)\n",
    "            break\n",
    "    else: # インデント位置に制御文が依存するので注意\n",
    "        # ループで約数を見つけられなかった場合\n",
    "        print(n,' is a prime number')"
   ]
  },
  {
   "cell_type": "code",
   "execution_count": 20,
   "metadata": {},
   "outputs": [
    {
     "name": "stdout",
     "output_type": "stream",
     "text": [
      "Found an even number 2\n",
      "Found a number 3\n",
      "Found an even number 4\n",
      "Found a number 5\n",
      "Found an even number 6\n",
      "Found a number 7\n",
      "Found an even number 8\n",
      "Found a number 9\n"
     ]
    }
   ],
   "source": [
    "# 奇数を求める\n",
    "for num in range(2,10):\n",
    "    if num % 2 == 0:\n",
    "        print(\"Found an even number\", num)\n",
    "        continue\n",
    "    print(\"Found a number\", num)"
   ]
  },
  {
   "cell_type": "markdown",
   "metadata": {},
   "source": [
    "## 4.5 pass statement\n",
    "\n",
    "何にもしない文。TODOがわりに使う？"
   ]
  },
  {
   "cell_type": "code",
   "execution_count": null,
   "metadata": {
    "collapsed": true
   },
   "outputs": [],
   "source": [
    "def initlog(*args):\n",
    "    pass # TODO : 実装すること"
   ]
  }
 ],
 "metadata": {
  "kernelspec": {
   "display_name": "Python 3",
   "language": "python",
   "name": "python3"
  },
  "language_info": {
   "codemirror_mode": {
    "name": "ipython",
    "version": 3
   },
   "file_extension": ".py",
   "mimetype": "text/x-python",
   "name": "python",
   "nbconvert_exporter": "python",
   "pygments_lexer": "ipython3",
   "version": "3.6.1"
  }
 },
 "nbformat": 4,
 "nbformat_minor": 2
}
