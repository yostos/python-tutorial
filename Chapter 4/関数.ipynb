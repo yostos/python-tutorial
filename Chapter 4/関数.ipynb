{
 "cells": [
  {
   "cell_type": "markdown",
   "metadata": {},
   "source": [
    "## 4.6 関数定義"
   ]
  },
  {
   "cell_type": "code",
   "execution_count": 11,
   "metadata": {},
   "outputs": [
    {
     "name": "stdout",
     "output_type": "stream",
     "text": [
      "0 1 1 2 3 5 8 13 21 34 55 89 144 233 377 610 987 1597 \n",
      "0 1 1 2 3 5 8 13 \n",
      "None\n"
     ]
    }
   ],
   "source": [
    "def fib(n):\n",
    "    \"\"\"nまでのフィボナッチ級数を表示する\"\"\"\n",
    "    a,b = 0,1\n",
    "    while a < n:\n",
    "        print(a, end=' ')\n",
    "        a,b = b,a+b\n",
    "    print()\n",
    "\n",
    "# 呼び出して見るか\n",
    "fib(2000)\n",
    "print(fib(20))"
   ]
  },
  {
   "cell_type": "markdown",
   "metadata": {},
   "source": [
    "- 関数本体の最初の文にはリテラルを使うことができ、これは関数のドキュメンテーション文字列。**docstring**と呼ぶ。\n",
    "- 関数内の変数はローカル\n",
    "- 関数の引数は、**call by value**。つまり参照。したがって、**関数の引数が可変オブジェクトだった場合、関数内で引数を書き換えると呼び出し元も変更される**\n",
    "- 関数は必ず値を返す。return文を持たない関数、または、return文の引数がない関数の戻り値は None"
   ]
  },
  {
   "cell_type": "code",
   "execution_count": 17,
   "metadata": {},
   "outputs": [
    {
     "name": "stdout",
     "output_type": "stream",
     "text": [
      "[0, 1, 1, 2, 3, 5, 8, 13, 21, 34, 55, 89, 144, 233, 377, 610, 987, 1597]\n"
     ]
    }
   ],
   "source": [
    "# 値を戻すバージョン\n",
    "def fib2(n):\n",
    "    \"\"\"nまでのフィボナッチ級数を表示する\"\"\"\n",
    "    a,b = 0,1\n",
    "    result = []\n",
    "    while a < n:\n",
    "        result.append(a)\n",
    "        a,b = b,a+b\n",
    "    return result\n",
    "\n",
    "# 呼び出して見るか\n",
    "a = fib2(2000)\n",
    "print(a)"
   ]
  },
  {
   "cell_type": "markdown",
   "metadata": {},
   "source": [
    "- result = result + [a]　より、 result.append(a) の方が効率的らしい"
   ]
  }
 ],
 "metadata": {
  "kernelspec": {
   "display_name": "Python 3",
   "language": "python",
   "name": "python3"
  },
  "language_info": {
   "codemirror_mode": {
    "name": "ipython",
    "version": 3
   },
   "file_extension": ".py",
   "mimetype": "text/x-python",
   "name": "python",
   "nbconvert_exporter": "python",
   "pygments_lexer": "ipython3",
   "version": "3.6.1"
  }
 },
 "nbformat": 4,
 "nbformat_minor": 2
}
