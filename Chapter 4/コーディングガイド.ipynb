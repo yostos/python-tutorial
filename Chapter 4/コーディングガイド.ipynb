{
 "cells": [
  {
   "cell_type": "markdown",
   "metadata": {},
   "source": [
    "## 4.8 コーディングガイド\n",
    "\n",
    "- インデントはスペース４つでタブは使用しない\n",
    "- 79文字以下で折り返す\n",
    "- 関数やクラス、関数内の大きめのブロックには空白行を入れる\n",
    "- コメント行は独立させる\n",
    "- docstringは使う\n",
    "- 演算子の後ろやコンマの後ろにはスペースを入れる。しかしカッコのすぐ内側にはスペースを入れない\n",
    "- クラス名の命名はキャプションする。関数やメソッドは小文字でアンダースコアで単語を区切る\n",
    "- メソッドの第一"
   ]
  }
 ],
 "metadata": {
  "kernelspec": {
   "display_name": "Python 3",
   "language": "python",
   "name": "python3"
  },
  "language_info": {
   "codemirror_mode": {
    "name": "ipython",
    "version": 3
   },
   "file_extension": ".py",
   "mimetype": "text/x-python",
   "name": "python",
   "nbconvert_exporter": "python",
   "pygments_lexer": "ipython3",
   "version": "3.6.1"
  }
 },
 "nbformat": 4,
 "nbformat_minor": 2
}
